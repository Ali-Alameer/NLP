{
  "nbformat": 4,
  "nbformat_minor": 0,
  "metadata": {
    "colab": {
      "provenance": []
    },
    "kernelspec": {
      "name": "python3",
      "display_name": "Python 3"
    },
    "language_info": {
      "name": "python"
    }
  },
  "cells": [
    {
      "cell_type": "markdown",
      "source": [
        "# Lyrics Spotify Api"
      ],
      "metadata": {
        "id": "z3foSv4QhTat"
      }
    },
    {
      "cell_type": "markdown",
      "source": [
        "Using the Spotify Api and the color-lyrics Spotify Api we can retrieve lyrics from tracks based on the artist genre.\n",
        "This can be particularly useful in the case of text classification or topic modeling.\n",
        "\n",
        "The first part is done using the official Spotify Api, which will help us retrieve artists based on a certain genre and then retrieve their top 10 tracks.\n",
        "\n",
        "The second part is done thanks to an \"unofficial\" Api and will allow us to retrieve for each track its lyrics.\n",
        "\n",
        "First of all, you will have to obtain a *client-id* and a *client-secret* by creating an app at this link: https://developer.spotify.com/dashboard.\n",
        "\n",
        "Then copy and assign the *client-id* to the *spotifyCid* variable and the *client-secret* to the *spotifySecret* variable.\n",
        "\n",
        "Then you will have to go to the following link on your browser: https://open.spotify.com/get_access_token?reason=transport&productType=web_player.\n",
        "\n",
        "And manually copy the *accessToken* and assign it to the *lyricsAccessToken* variable.\n",
        "\n",
        "There is already a pre-made list of genres, but you can add or remove any to it so it matches your needs."
      ],
      "metadata": {
        "id": "VMcyOoeoQMtt"
      }
    },
    {
      "cell_type": "code",
      "source": [
        "spotifyCid =''\n",
        "spotifySecret =''\n",
        "lyricsAccessToken = ''\n",
        "\n",
        "# List of genres retrieved through the requests\n",
        "genres = ['rap', 'death-metal', 'country', 'pop', 'rock', 'punk', 'r&b', 'blues', 'folk', 'jazz', 'reggae', 'indie', 'disco', 'edm']"
      ],
      "metadata": {
        "id": "zWz67-xKjsK7"
      },
      "execution_count": null,
      "outputs": []
    },
    {
      "cell_type": "markdown",
      "source": [
        "The following function retrieves an access token from the Spotify API using the Client Credentials Flow."
      ],
      "metadata": {
        "id": "g8AtpbxOVoaD"
      }
    },
    {
      "cell_type": "code",
      "source": [
        "import requests\n",
        "\n",
        "def credentials_retriever() -> str :\n",
        "  # The url of the Api request\n",
        "  url = 'https://accounts.spotify.com/api/token'\n",
        "\n",
        "  # A header to descripe the format of the data we are sending\n",
        "  headers = {\n",
        "      'Content-Type':'application/x-www-form-urlencoded'\n",
        "  }\n",
        "\n",
        "  # The data required to be sent to retrieve our credentials\n",
        "  data = {\n",
        "      'grant_type':'client_credentials',\n",
        "      'client_id':spotifyCid,\n",
        "      'client_secret':spotifySecret\n",
        "  }\n",
        "\n",
        "  # We here perform the post request and retrieve the response of the request\n",
        "  response = requests.post(url, headers=headers, data=data)\n",
        "  access_token = ''\n",
        "\n",
        "  # We ensure here that the request was successful and store the acc_token\n",
        "  if response.status_code == 200:\n",
        "    response_data = response.json()\n",
        "    access_token = response_data['access_token']\n",
        "\n",
        "  return access_token"
      ],
      "metadata": {
        "id": "i83EybJEJ3nr"
      },
      "execution_count": null,
      "outputs": []
    },
    {
      "cell_type": "markdown",
      "source": [
        "The next function retrieves the current top 10 tracks of an artist by questioning the Spotify Api. The tracks informations are then used to perform a request to the color-lyrics Spotify Api and get the lyrics of each song."
      ],
      "metadata": {
        "id": "Wb93istxXY2x"
      }
    },
    {
      "cell_type": "code",
      "source": [
        "import pandas as pd\n",
        "\n",
        "def get_artist_songs(id : str, access_token : str, genre : str) -> pd.DataFrame :\n",
        "  # The url to retrieve the artist top tracks\n",
        "  url = 'https://api.spotify.com/v1/artists/' + id + '/top-tracks'\n",
        "\n",
        "  # Through the header we send our access_token to the Api\n",
        "  headers = {\n",
        "    'Authorization': 'Bearer ' + access_token\n",
        "  }\n",
        "\n",
        "  # We perform the get request to retrieve all the songs\n",
        "  search = requests.get(url, headers=headers)\n",
        "\n",
        "  # We use this header to make believe the color-lyrics api that the request\n",
        "  # has been made from a browser and thus allowing us access to it\n",
        "  lyricsHeaders = {\n",
        "      'User-Agent': 'Mozilla/5.0 (X11; Linux x86_64) AppleWebKit/537.36 (KHTML, like Gecko) Chrome/101.0.0.0 Safari/537.36',\n",
        "      'App-platform': 'WebPlayer',\n",
        "      'Authorization': 'Bearer ' + lyricsAccessToken\n",
        "  }\n",
        "\n",
        "  tracks = []\n",
        "  artists = []\n",
        "  lyrics = []\n",
        "  df = pd.DataFrame(search.json())\n",
        "\n",
        "  # We loop through all the tracks to request their lyrics\n",
        "  for x in df['tracks']:\n",
        "    search = requests.get('https://spclient.wg.spotify.com/color-lyrics/v2/track/' + x['id'], headers=lyricsHeaders)\n",
        "    if not search.text:\n",
        "      continue\n",
        "    tracks.append(x['name'])\n",
        "    artists.append(x['artists'][0]['name'])\n",
        "    lyrics.append(search.text)\n",
        "\n",
        "  # Dataframe containing track data\n",
        "  tracksDf = pd.DataFrame({\n",
        "    'lyrics':lyrics,\n",
        "    'track':tracks,\n",
        "    'artist':artists,\n",
        "    'genre':genres.index(genre)\n",
        "  })\n",
        "\n",
        "  return tracksDf"
      ],
      "metadata": {
        "id": "51criT4irjVY"
      },
      "execution_count": null,
      "outputs": []
    },
    {
      "cell_type": "markdown",
      "source": [
        "This short function allow us to perform a search and get a certain number of artists based on the genre of music they make."
      ],
      "metadata": {
        "id": "4Pjn1UdcYqJo"
      }
    },
    {
      "cell_type": "code",
      "source": [
        "def get_artists_from_genre(genre : str, access_token : str, limit : int=15,\n",
        "                           offset : int=5, types : list[str] = ['artist'], market: str = 'GB') -> pd.DataFrame :\n",
        "  # The url to perform a search on the Spotify Api\n",
        "  url = 'https://api.spotify.com/v1/search'\n",
        "\n",
        "  # Through the header we send our access_token to the Api\n",
        "  headers = {\n",
        "    'Authorization':'Bearer ' + access_token\n",
        "  }\n",
        "\n",
        "  # The search parameters for the Api request\n",
        "  # A full description of each parameters can be found here : https://developer.spotify.com/documentation/web-api/reference/search\n",
        "  params = {\n",
        "    'q':'genre:' + genre,\n",
        "    'type':types,\n",
        "    'limit':limit,\n",
        "    'offest':offset,\n",
        "    'market':market,\n",
        "  }\n",
        "\n",
        "  # We perform the get request on the api and retrieve the response from the servers\n",
        "  search = requests.get(url, headers=headers, params=params)\n",
        "\n",
        "  ids = []\n",
        "  df = pd.DataFrame(search.json())\n",
        "  tracksDf = df['artists']\n",
        "  # for each track we retrieve the track if that we have a later use\n",
        "  for x in tracksDf['items']:\n",
        "    ids.append(x['id'])\n",
        "\n",
        "  finalTracksDf = pd.DataFrame()\n",
        "  for id in ids:\n",
        "    tracksDf = get_artist_songs(id, access_token, genre)\n",
        "    finalTracksDf = pd.concat([finalTracksDf, tracksDf])\n",
        "\n",
        "  return finalTracksDf"
      ],
      "metadata": {
        "id": "8F0WaTJblkO_"
      },
      "execution_count": null,
      "outputs": []
    },
    {
      "cell_type": "markdown",
      "source": [
        "Now that we have defined all the functions, we can perform each step one after the other.\n",
        "\n",
        "First we are going to retrieve the user access token, used for several of the Api calls. Once it is secured, for each genre, we will get a list of artists and obtain lyrics for the top 10 tracks of each artist.\n",
        "\n",
        "We then zip and export the result for later use.\n",
        "\n",
        "There is a lot of parameters you can play with, change the number of artists you want to look for or change the region in which the search is performed for example.\n",
        "\n",
        "On top of that you can also change some of the Api calls to fit well into the kind of informations you are looking for, following the Spotify web-api documentation: https://developer.spotify.com/documentation/web-api."
      ],
      "metadata": {
        "id": "mND3CVr3Yyh_"
      }
    },
    {
      "cell_type": "code",
      "source": [
        "# We retrieve the access_token\n",
        "access_token = credentials_retriever()\n",
        "\n",
        "# If no access_token just exit the program\n",
        "if access_token is None:\n",
        "  print('Issue with access token retrieval')\n",
        "  exit()\n",
        "\n",
        "finalLyricsDf = pd.DataFrame()\n",
        "# We are going to loop through each genre and retrieve lyrics\n",
        "for genre in genres:\n",
        "  lyricsDf = get_artists_from_genre(\n",
        "    genre,\n",
        "    access_token=access_token,\n",
        "    limit=50,\n",
        "    offset=0\n",
        "  )\n",
        "  finalLyricsDf = pd.concat([finalLyricsDf, lyricsDf])\n",
        "\n",
        "# We will create a csv file containing all the lyrics and then compress it to facilitate download and transfer\n",
        "compression_opts = dict(method='zip', archive_name='Spotify_Lyrics.csv')\n",
        "finalLyricsDf.to_csv('Spotify_Lyrics.zip', index=False, compression=compression_opts)"
      ],
      "metadata": {
        "id": "ebp5RJwK53LB"
      },
      "execution_count": null,
      "outputs": []
    }
  ]
}
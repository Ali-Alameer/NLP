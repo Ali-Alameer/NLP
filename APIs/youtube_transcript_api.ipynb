{
  "cells": [
    {
      "cell_type": "markdown",
      "metadata": {
        "colab_type": "text",
        "id": "view-in-github"
      },
      "source": [
        "<a href=\"https://colab.research.google.com/github/vafaeineghab/NLP/blob/main/APIs/youtube_transcript_api.ipynb\" target=\"_parent\"><img src=\"https://colab.research.google.com/assets/colab-badge.svg\" alt=\"Open In Colab\"/></a>"
      ]
    },
    {
      "cell_type": "markdown",
      "metadata": {
        "id": "3-fsK6pjXaUF"
      },
      "source": [
        "# **Youtube Transcript API**\n",
        "By combining these libraries, you can retrieve text data from YouTube videos, analyze it, and even perform tasks like translation if needed. This can be useful for tasks such as sentiment analysis, topic modeling, summarization, and more, particularly when dealing with multimedia content like videos.    \n",
        "\n",
        "**YoutubeLoader:** This is a component of the langchain library that allows you to load text data from YouTube videos. It's particularly useful when you want to analyze or process the content of videos in a text format.\n",
        "\n",
        "**pytube:** pytube is a library that allows you to access and download YouTube videos. In this context, it's likely used by langchain under the hood to retrieve the video content from YouTube.\n",
        "\n",
        "**youtube-transcript-api:** This library is used to retrieve the transcript of YouTube videos. It allows you to access the spoken text in the video, which can be useful for various NLP tasks.\n",
        "\n",
        "**deep_translator:** This library provides a simple interface to several machine translation APIs. It allows you to translate text between different languages using services like Google Translate, Microsoft Translator, etc.\n"
      ]
    },
    {
      "cell_type": "code",
      "execution_count": null,
      "metadata": {
        "id": "cS4xKSvDTRsd"
      },
      "outputs": [],
      "source": [
        "# Install required packages\n",
        "pip install langchain\n",
        "pip install pytubeCreated using Colaboratory\n",
        "pip install youtube-transcript-api\n",
        "pip install deep_translator"
      ]
    },
    {
      "cell_type": "markdown",
      "metadata": {
        "id": "vo4qV6jVW1_D"
      },
      "source": [
        "\n",
        "\n",
        "## YouTube video URL\n",
        "Make sure to replace the YouTube video URL ('https://www.youtube.com/watch?v=tlWuP7wESZw') with the URL of the video you want to load data from."
      ]
    },
    {
      "cell_type": "code",
      "execution_count": 5,
      "metadata": {
        "id": "FoOUtA-6UUBU"
      },
      "outputs": [],
      "source": [
        "# Import necessary modules\n",
        "from langchain.document_loaders import YoutubeLoader\n",
        "# Initialize a YoutubeLoader object with the URL of the YouTube video\n",
        "loader = YoutubeLoader.from_youtube_url('https://www.youtube.com/watch?v=tlWuP7wESZw')"
      ]
    },
    {
      "cell_type": "code",
      "execution_count": null,
      "metadata": {
        "id": "5YmpTPtXUVx6"
      },
      "outputs": [],
      "source": [
        "# Load data from the YouTube video using the loader\n",
        "data = loader.load()\n",
        "# Print the loaded data\n",
        "print(data)"
      ]
    }
  ],
  "metadata": {
    "colab": {
      "authorship_tag": "ABX9TyM0qYN6SgxCqvFAFdFgvMei",
      "include_colab_link": true,
      "provenance": []
    },
    "kernelspec": {
      "display_name": "Python 3",
      "name": "python3"
    },
    "language_info": {
      "name": "python"
    }
  },
  "nbformat": 4,
  "nbformat_minor": 0
}

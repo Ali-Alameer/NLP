{
 "cells": [
  {
   "cell_type": "code",
   "execution_count": 1,
   "id": "eedd5f1d-919c-4586-9bdc-bf6ac4bf31d1",
   "metadata": {
    "tags": []
   },
   "outputs": [
    {
     "name": "stdout",
     "output_type": "stream",
     "text": [
      "Collecting langchain\n",
      "  Obtaining dependency information for langchain from https://files.pythonhosted.org/packages/7a/55/8eea22507449c4daed22ddcae3fdbd88a34995c2e7f039fde486c5d0dc0a/langchain-0.0.341-py3-none-any.whl.metadata\n",
      "  Downloading langchain-0.0.341-py3-none-any.whl.metadata (16 kB)\n",
      "Requirement already satisfied: PyYAML>=5.3 in /Applications/Anaconda2/anaconda3/lib/python3.11/site-packages (from langchain) (6.0)\n",
      "Requirement already satisfied: SQLAlchemy<3,>=1.4 in /Applications/Anaconda2/anaconda3/lib/python3.11/site-packages (from langchain) (1.4.39)\n",
      "Requirement already satisfied: aiohttp<4.0.0,>=3.8.3 in /Applications/Anaconda2/anaconda3/lib/python3.11/site-packages (from langchain) (3.8.5)\n",
      "Requirement already satisfied: anyio<4.0 in /Applications/Anaconda2/anaconda3/lib/python3.11/site-packages (from langchain) (3.5.0)\n",
      "Collecting dataclasses-json<0.7,>=0.5.7 (from langchain)\n",
      "  Obtaining dependency information for dataclasses-json<0.7,>=0.5.7 from https://files.pythonhosted.org/packages/ae/53/8c006de775834cd4ea64a445402dc195caeebb77dc76b7defb9b3887cb0d/dataclasses_json-0.6.3-py3-none-any.whl.metadata\n",
      "  Downloading dataclasses_json-0.6.3-py3-none-any.whl.metadata (25 kB)\n",
      "Collecting jsonpatch<2.0,>=1.33 (from langchain)\n",
      "  Obtaining dependency information for jsonpatch<2.0,>=1.33 from https://files.pythonhosted.org/packages/73/07/02e16ed01e04a374e644b575638ec7987ae846d25ad97bcc9945a3ee4b0e/jsonpatch-1.33-py2.py3-none-any.whl.metadata\n",
      "  Downloading jsonpatch-1.33-py2.py3-none-any.whl.metadata (3.0 kB)\n",
      "Collecting langchain-core<0.0.7,>=0.0.6 (from langchain)\n",
      "  Obtaining dependency information for langchain-core<0.0.7,>=0.0.6 from https://files.pythonhosted.org/packages/11/38/5fc89f9eeb677115d543b0d4e2749380d7551c25ca130ffe7e9f4e5b7044/langchain_core-0.0.6-py3-none-any.whl.metadata\n",
      "  Downloading langchain_core-0.0.6-py3-none-any.whl.metadata (750 bytes)\n",
      "Collecting langsmith<0.1.0,>=0.0.63 (from langchain)\n",
      "  Obtaining dependency information for langsmith<0.1.0,>=0.0.63 from https://files.pythonhosted.org/packages/88/bb/5c804d688c193a52ab4a353f8a8400fcdbb3d1743d1d47b5312e146b5afe/langsmith-0.0.67-py3-none-any.whl.metadata\n",
      "  Downloading langsmith-0.0.67-py3-none-any.whl.metadata (10 kB)\n",
      "Requirement already satisfied: numpy<2,>=1 in /Applications/Anaconda2/anaconda3/lib/python3.11/site-packages (from langchain) (1.24.3)\n",
      "Requirement already satisfied: pydantic<3,>=1 in /Applications/Anaconda2/anaconda3/lib/python3.11/site-packages (from langchain) (1.10.8)\n",
      "Requirement already satisfied: requests<3,>=2 in /Applications/Anaconda2/anaconda3/lib/python3.11/site-packages (from langchain) (2.31.0)\n",
      "Requirement already satisfied: tenacity<9.0.0,>=8.1.0 in /Applications/Anaconda2/anaconda3/lib/python3.11/site-packages (from langchain) (8.2.2)\n",
      "Requirement already satisfied: attrs>=17.3.0 in /Applications/Anaconda2/anaconda3/lib/python3.11/site-packages (from aiohttp<4.0.0,>=3.8.3->langchain) (22.1.0)\n",
      "Requirement already satisfied: charset-normalizer<4.0,>=2.0 in /Applications/Anaconda2/anaconda3/lib/python3.11/site-packages (from aiohttp<4.0.0,>=3.8.3->langchain) (2.0.4)\n",
      "Requirement already satisfied: multidict<7.0,>=4.5 in /Applications/Anaconda2/anaconda3/lib/python3.11/site-packages (from aiohttp<4.0.0,>=3.8.3->langchain) (6.0.2)\n",
      "Requirement already satisfied: async-timeout<5.0,>=4.0.0a3 in /Applications/Anaconda2/anaconda3/lib/python3.11/site-packages (from aiohttp<4.0.0,>=3.8.3->langchain) (4.0.2)\n",
      "Requirement already satisfied: yarl<2.0,>=1.0 in /Applications/Anaconda2/anaconda3/lib/python3.11/site-packages (from aiohttp<4.0.0,>=3.8.3->langchain) (1.8.1)\n",
      "Requirement already satisfied: frozenlist>=1.1.1 in /Applications/Anaconda2/anaconda3/lib/python3.11/site-packages (from aiohttp<4.0.0,>=3.8.3->langchain) (1.3.3)\n",
      "Requirement already satisfied: aiosignal>=1.1.2 in /Applications/Anaconda2/anaconda3/lib/python3.11/site-packages (from aiohttp<4.0.0,>=3.8.3->langchain) (1.2.0)\n",
      "Requirement already satisfied: idna>=2.8 in /Applications/Anaconda2/anaconda3/lib/python3.11/site-packages (from anyio<4.0->langchain) (3.4)\n",
      "Requirement already satisfied: sniffio>=1.1 in /Applications/Anaconda2/anaconda3/lib/python3.11/site-packages (from anyio<4.0->langchain) (1.2.0)\n",
      "Collecting marshmallow<4.0.0,>=3.18.0 (from dataclasses-json<0.7,>=0.5.7->langchain)\n",
      "  Obtaining dependency information for marshmallow<4.0.0,>=3.18.0 from https://files.pythonhosted.org/packages/ed/3c/cebfdcad015240014ff08b883d1c0c427f2ba45ae8c6572851b6ef136cad/marshmallow-3.20.1-py3-none-any.whl.metadata\n",
      "  Downloading marshmallow-3.20.1-py3-none-any.whl.metadata (7.8 kB)\n",
      "Collecting typing-inspect<1,>=0.4.0 (from dataclasses-json<0.7,>=0.5.7->langchain)\n",
      "  Obtaining dependency information for typing-inspect<1,>=0.4.0 from https://files.pythonhosted.org/packages/65/f3/107a22063bf27bdccf2024833d3445f4eea42b2e598abfbd46f6a63b6cb0/typing_inspect-0.9.0-py3-none-any.whl.metadata\n",
      "  Downloading typing_inspect-0.9.0-py3-none-any.whl.metadata (1.5 kB)\n",
      "Requirement already satisfied: jsonpointer>=1.9 in /Applications/Anaconda2/anaconda3/lib/python3.11/site-packages (from jsonpatch<2.0,>=1.33->langchain) (2.1)\n",
      "Requirement already satisfied: typing-extensions>=4.2.0 in /Applications/Anaconda2/anaconda3/lib/python3.11/site-packages (from pydantic<3,>=1->langchain) (4.7.1)\n",
      "Requirement already satisfied: urllib3<3,>=1.21.1 in /Applications/Anaconda2/anaconda3/lib/python3.11/site-packages (from requests<3,>=2->langchain) (1.26.16)\n",
      "Requirement already satisfied: certifi>=2017.4.17 in /Applications/Anaconda2/anaconda3/lib/python3.11/site-packages (from requests<3,>=2->langchain) (2023.7.22)\n",
      "Requirement already satisfied: greenlet!=0.4.17 in /Applications/Anaconda2/anaconda3/lib/python3.11/site-packages (from SQLAlchemy<3,>=1.4->langchain) (2.0.1)\n",
      "Requirement already satisfied: packaging>=17.0 in /Applications/Anaconda2/anaconda3/lib/python3.11/site-packages (from marshmallow<4.0.0,>=3.18.0->dataclasses-json<0.7,>=0.5.7->langchain) (23.1)\n",
      "Requirement already satisfied: mypy-extensions>=0.3.0 in /Applications/Anaconda2/anaconda3/lib/python3.11/site-packages (from typing-inspect<1,>=0.4.0->dataclasses-json<0.7,>=0.5.7->langchain) (1.0.0)\n",
      "Downloading langchain-0.0.341-py3-none-any.whl (1.9 MB)\n",
      "\u001b[2K   \u001b[90m━━━━━━━━━━━━━━━━━━━━━━━━━━━━━━━━━━━━━━━━\u001b[0m \u001b[32m1.9/1.9 MB\u001b[0m \u001b[31m8.9 MB/s\u001b[0m eta \u001b[36m0:00:00\u001b[0ma \u001b[36m0:00:01\u001b[0m\n",
      "\u001b[?25hDownloading dataclasses_json-0.6.3-py3-none-any.whl (28 kB)\n",
      "Downloading jsonpatch-1.33-py2.py3-none-any.whl (12 kB)\n",
      "Downloading langchain_core-0.0.6-py3-none-any.whl (174 kB)\n",
      "\u001b[2K   \u001b[90m━━━━━━━━━━━━━━━━━━━━━━━━━━━━━━━━━━━━━━━━\u001b[0m \u001b[32m174.2/174.2 kB\u001b[0m \u001b[31m8.3 MB/s\u001b[0m eta \u001b[36m0:00:00\u001b[0m\n",
      "\u001b[?25hDownloading langsmith-0.0.67-py3-none-any.whl (47 kB)\n",
      "\u001b[2K   \u001b[90m━━━━━━━━━━━━━━━━━━━━━━━━━━━━━━━━━━━━━━━━\u001b[0m \u001b[32m47.0/47.0 kB\u001b[0m \u001b[31m4.5 MB/s\u001b[0m eta \u001b[36m0:00:00\u001b[0m\n",
      "\u001b[?25hDownloading marshmallow-3.20.1-py3-none-any.whl (49 kB)\n",
      "\u001b[2K   \u001b[90m━━━━━━━━━━━━━━━━━━━━━━━━━━━━━━━━━━━━━━━━\u001b[0m \u001b[32m49.4/49.4 kB\u001b[0m \u001b[31m4.7 MB/s\u001b[0m eta \u001b[36m0:00:00\u001b[0m\n",
      "\u001b[?25hDownloading typing_inspect-0.9.0-py3-none-any.whl (8.8 kB)\n",
      "Installing collected packages: typing-inspect, marshmallow, jsonpatch, langsmith, dataclasses-json, langchain-core, langchain\n",
      "  Attempting uninstall: jsonpatch\n",
      "    Found existing installation: jsonpatch 1.32\n",
      "    Uninstalling jsonpatch-1.32:\n",
      "      Successfully uninstalled jsonpatch-1.32\n",
      "Successfully installed dataclasses-json-0.6.3 jsonpatch-1.33 langchain-0.0.341 langchain-core-0.0.6 langsmith-0.0.67 marshmallow-3.20.1 typing-inspect-0.9.0\n",
      "Note: you may need to restart the kernel to use updated packages.\n"
     ]
    }
   ],
   "source": [
    "pip install langchain"
   ]
  },
  {
   "cell_type": "code",
   "execution_count": 2,
   "id": "d6e2a1d6-3e74-45ad-a413-e7c961892877",
   "metadata": {
    "tags": []
   },
   "outputs": [
    {
     "name": "stdout",
     "output_type": "stream",
     "text": [
      "Collecting pytube\n",
      "  Downloading pytube-15.0.0-py3-none-any.whl (57 kB)\n",
      "\u001b[2K     \u001b[90m━━━━━━━━━━━━━━━━━━━━━━━━━━━━━━━━━━━━━━━━\u001b[0m \u001b[32m57.6/57.6 kB\u001b[0m \u001b[31m1.2 MB/s\u001b[0m eta \u001b[36m0:00:00\u001b[0ma \u001b[36m0:00:01\u001b[0m\n",
      "\u001b[?25hInstalling collected packages: pytube\n",
      "Successfully installed pytube-15.0.0\n",
      "Note: you may need to restart the kernel to use updated packages.\n"
     ]
    }
   ],
   "source": [
    "pip install pytube"
   ]
  },
  {
   "cell_type": "code",
   "execution_count": 4,
   "id": "426683f3-fcff-484b-ae0a-161d75ead0db",
   "metadata": {
    "tags": []
   },
   "outputs": [
    {
     "name": "stdout",
     "output_type": "stream",
     "text": [
      "Collecting youtube-transcript-api\n",
      "  Obtaining dependency information for youtube-transcript-api from https://files.pythonhosted.org/packages/33/c1/18e32c7cd693802056f385c3ee78825102566be94a811b6556f17783c743/youtube_transcript_api-0.6.1-py3-none-any.whl.metadata\n",
      "  Downloading youtube_transcript_api-0.6.1-py3-none-any.whl.metadata (14 kB)\n",
      "Requirement already satisfied: requests in /Applications/Anaconda2/anaconda3/lib/python3.11/site-packages (from youtube-transcript-api) (2.31.0)\n",
      "Requirement already satisfied: charset-normalizer<4,>=2 in /Applications/Anaconda2/anaconda3/lib/python3.11/site-packages (from requests->youtube-transcript-api) (2.0.4)\n",
      "Requirement already satisfied: idna<4,>=2.5 in /Applications/Anaconda2/anaconda3/lib/python3.11/site-packages (from requests->youtube-transcript-api) (3.4)\n",
      "Requirement already satisfied: urllib3<3,>=1.21.1 in /Applications/Anaconda2/anaconda3/lib/python3.11/site-packages (from requests->youtube-transcript-api) (1.26.16)\n",
      "Requirement already satisfied: certifi>=2017.4.17 in /Applications/Anaconda2/anaconda3/lib/python3.11/site-packages (from requests->youtube-transcript-api) (2023.7.22)\n",
      "Downloading youtube_transcript_api-0.6.1-py3-none-any.whl (24 kB)\n",
      "Installing collected packages: youtube-transcript-api\n",
      "Successfully installed youtube-transcript-api-0.6.1\n",
      "Note: you may need to restart the kernel to use updated packages.\n"
     ]
    }
   ],
   "source": [
    "pip install youtube-transcript-api"
   ]
  },
  {
   "cell_type": "code",
   "execution_count": 5,
   "id": "781c37e5-1768-4cd0-8ff8-b3ba6aff0034",
   "metadata": {
    "tags": []
   },
   "outputs": [
    {
     "name": "stdout",
     "output_type": "stream",
     "text": [
      "Collecting deep_translator\n",
      "  Obtaining dependency information for deep_translator from https://files.pythonhosted.org/packages/38/3f/61a8ef73236dbea83a1a063a8af2f8e1e41a0df64f122233938391d0f175/deep_translator-1.11.4-py3-none-any.whl.metadata\n",
      "  Downloading deep_translator-1.11.4-py3-none-any.whl.metadata (30 kB)\n",
      "Requirement already satisfied: beautifulsoup4<5.0.0,>=4.9.1 in /Applications/Anaconda2/anaconda3/lib/python3.11/site-packages (from deep_translator) (4.12.2)\n",
      "Requirement already satisfied: requests<3.0.0,>=2.23.0 in /Applications/Anaconda2/anaconda3/lib/python3.11/site-packages (from deep_translator) (2.31.0)\n",
      "Requirement already satisfied: soupsieve>1.2 in /Applications/Anaconda2/anaconda3/lib/python3.11/site-packages (from beautifulsoup4<5.0.0,>=4.9.1->deep_translator) (2.4)\n",
      "Requirement already satisfied: charset-normalizer<4,>=2 in /Applications/Anaconda2/anaconda3/lib/python3.11/site-packages (from requests<3.0.0,>=2.23.0->deep_translator) (2.0.4)\n",
      "Requirement already satisfied: idna<4,>=2.5 in /Applications/Anaconda2/anaconda3/lib/python3.11/site-packages (from requests<3.0.0,>=2.23.0->deep_translator) (3.4)\n",
      "Requirement already satisfied: urllib3<3,>=1.21.1 in /Applications/Anaconda2/anaconda3/lib/python3.11/site-packages (from requests<3.0.0,>=2.23.0->deep_translator) (1.26.16)\n",
      "Requirement already satisfied: certifi>=2017.4.17 in /Applications/Anaconda2/anaconda3/lib/python3.11/site-packages (from requests<3.0.0,>=2.23.0->deep_translator) (2023.7.22)\n",
      "Downloading deep_translator-1.11.4-py3-none-any.whl (42 kB)\n",
      "\u001b[2K   \u001b[90m━━━━━━━━━━━━━━━━━━━━━━━━━━━━━━━━━━━━━━━━\u001b[0m \u001b[32m42.3/42.3 kB\u001b[0m \u001b[31m3.6 MB/s\u001b[0m eta \u001b[36m0:00:00\u001b[0m\n",
      "\u001b[?25hInstalling collected packages: deep_translator\n",
      "Successfully installed deep_translator-1.11.4\n",
      "Note: you may need to restart the kernel to use updated packages.\n"
     ]
    }
   ],
   "source": [
    "pip install deep_translator"
   ]
  },
  {
   "cell_type": "code",
   "execution_count": 10,
   "id": "b848a3f2-1e74-4576-bb7e-af9f4d9d84c3",
   "metadata": {
    "tags": []
   },
   "outputs": [],
   "source": [
    "from langchain.document_loaders import YoutubeLoader\n",
    "loader = YoutubeLoader.from_youtube_url('https://www.youtube.com/watch?v=tlWuP7wESZw')"
   ]
  },
  {
   "cell_type": "code",
   "execution_count": 11,
   "id": "5eea38bc-0e2e-434e-bfe1-f3f8e556dee0",
   "metadata": {
    "tags": []
   },
   "outputs": [
    {
     "name": "stdout",
     "output_type": "stream",
     "text": [
      "[Document(page_content=\"In the time it took me to walk on stage around 10 seconds, more than 10,000 metric tons\\nof climate-warming gases have been pumped into the atmosphere\\nfrom human actions. To provide some context\\non just how much that is, That is the weight equivalent\\nof 170,000 of me emitted in gas in 10 seconds. Ninety-nine percent of this pollution\\nis carbon dioxide, CO2, and we know we need to reduce it. The other one percent\\nis almost entirely methane, which mostly comes\\nfrom producing fossil fuels, managing waste and raising livestock. But that one percent of methane\\ncould cause more warming over the next 10 years than all that CO2. This is because methane absorbs\\na lot more energy per unit mass for reasons relating to its\\nmolecular structure and its ability to form other\\ngreenhouse gases in the atmosphere. CO2 is important because it can\\nlinger in the atmosphere long after it is emitted, which means we must achieve\\nnet-zero emissions to eventually stabilize our climate. This is key for protecting\\ngenerations to come. But with climate change already\\ndevastating so many lives today, we can't focus only on the distant future. My work as a scientist\\naims to identify ways to slow down warming as fast as possible, so that we can lower the risks\\nof worsening damages in the near future. This is where methane comes in. That one percent of methane\\nmay cause more warming than all that CO2\\nin the next several years, but it only lasts in the atmosphere\\nfor around a decade. Methane's warming power is therefore\\nnot from the gradual buildup over time like CO2, but almost entirely from recent emissions. This means that every time\\nwe reduce methane, we can reduce a lot of warming right away. In fact, cutting methane\\nis the single fastest, most effective opportunity to immediately\\nslow down the rate of warming. (Applause) And this is because not only\\ndoes methane act fast, but because we can act fast because we have the technologies\\navailable right now to cut methane emissions\\nfrom human activities in half. And even better, many\\nof these solutions pay for themselves. The methane we emit\\ncomes from three main sources: energy production, waste management and agriculture. The first category, energy production, is the largest and cheapest\\nopportunity we have to cut methane today. Most methane from energy\\nisn't from burning fossil fuels, it's from producing fossil fuels. Because natural gas,\\nwhich is mostly methane, can easily escape into the atmosphere when extracting oil, gas and coal, or when transporting gas\\nthrough pipelines. In fact, these leaks can completely offset\\nany near-term climate benefits of using gas instead of coal. But we have the technologies\\nto cut the majority of these emissions with around half for no net cost because the saved gas can be sold. For example, oil fields in West Texas\\nare wasting enough gas right now to heat more than two million homes. Fixing the methane problem, though, can be as simple as tightening a valve\\nor placing a gasket or tuning an engine. A major reason why these easy fixes\\nhaven't been implemented isn't the cost. It's because governments and industry\\nhave been data-deprived, lacking information on where\\nand how much is emitted. But our ability to detect these leaks\\nhas rapidly advanced in recent years. Everything from handheld instruments\\nto sensors on aircrafts and drones. And now there's a growing\\nuniverse of satellites designed to locate and measure\\nmethane from space. That list includes MethaneSAT, which is expected\\nto be launch-ready next year and will be able to detect\\nand quantify methane emissions across the globe\\nwith unprecedented precision. If we can find it, we can fix it. This part is not rocket science. It's more like plumbing. I can't tell you enough how hopeful\\nthat makes me for the future. We can also reduce a lot of emissions from the second category,\\nwaste management, where methane is produced\\nas bacteria decompose, garbage in landfills\\nand sludge in wastewater. Some of the largest landfills\\nreceive enough trash per day to fill more than 10\\nOlympic-sized swimming pools before it is compacted. But we can suck up\\nthe methane from landfills by using tubes with vacuums and then use it to generate electricity, because methane is an energy-packed fuel. We can also reduce emissions\\nby sending some trash, like food waste, away from landfills and instead\\nto composting centers that are designed to prevent\\nthe release of methane. The third category, agriculture, emits the most and remains\\nthe hardest to address. But there are exciting\\nnew technologies on the horizon. The number one source is livestock. Some farm animals,\\nlike the billion-plus cattle worldwide, belch methane that was produced\\nwhen digesting plants like grass. Reducing these emissions is possible\\nwith higher-quality feed. And the scientists are developing\\nand testing new technologies, like feed supplements, that can suppress methane production\\nin a cow's gut by at least 30 percent with no negative effects\\non productivity or quality. Livestock manure can also produce\\nmethane when concentrated, but we can cover manure lagoons and then pump manure into digesters\\nthat can capture the methane, which can then be used\\nfor heat and electricity. Another methane source is rice production. This one crop is a staple\\nfor half the world's population, but the plants grow in flooded fields that create ideal conditions\\nfor microbes to form methane. We can slash emissions from methane by improving how we manage\\nthe required water, which can be as simple\\nas maintaining a shallow level of water in the rice fields. Implementing all of these\\nsolutions will take work. But people have already started to act. Many governments, oil and gas CEOs, landfill operators and farmers\\nare advancing measures to reduce methane. But we need more, because there is a lot of warming\\nthat we can prevent if we quickly deploy the full set\\nof affordable and available strategies. We need standalone methane targets as part of every company's business model, and every country's nationally\\ndetermined contribution as the Paris Agreement is strengthened. Because if we succeed in a rapid,\\nfull-scale effort to cut methane, we have a chance to actually\\nexperience the benefits fast, in our lifetimes. For example, my colleagues and I found that we could\\nslow down the rate of warming by as much as 30 percent\\nbefore mid-century. This would help communities\\nand ecosystems adapt to a changing climate and hit the brakes on worsening\\nextreme events, like wildfires in the Americas\\nand Australia, and flooding in Europe and Asia. It would also help clean up our air,\\nsaving lives and crops, because methane contributes\\nto ozone pollution. And because some of the people most vulnerable to the impacts\\nof climate change are on the front lines\\nof methane emissions. These solutions can also help reduce\\nthe inequity of climate change, for example, by job creation. If we fast-forward to later decades, acting now to cut methane\\ncan also help protect Arctic sea ice. This is because when methane reductions\\nare combined with strong actions to cut CO2, it becomes unlikely\\nthat temperatures would rise to levels that would trigger a total loss\\nin Arctic summer sea ice. This is important not just for polar\\ncommunities and ecosystems, but actually for the entire world. I've now been talking\\nfor almost 10 minutes, which means that more than 700,000\\nmetric tons of climate-warming gases have been pumped into the atmosphere. Now that equals the weight\\nof 12 million of me. Of all this pollution, it is the methane\\nthat could warm the Earth the most over the next 10 years. But we know how to cut\\nthese emissions in half right now from energy, waste and agriculture. This is the methane moment. Because cutting methane\\nis the single fastest, most effective opportunity to reduce\\nclimate change risks in the near term. And cutting CO2, which will otherwise build up over time, is the key to reducing risks\\nin the long term. We need to do both to plot a safer course\\nfor ourselves and our children and for generations to come. Thank you so much. (Applause)\", metadata={'source': 'tlWuP7wESZw'})]\n"
     ]
    }
   ],
   "source": [
    "data = loader.load()\n",
    "print(data)"
   ]
  },
  {
   "cell_type": "code",
   "execution_count": null,
   "id": "44db05c0-88db-4eaa-a4b4-550b36618bdd",
   "metadata": {},
   "outputs": [],
   "source": []
  }
 ],
 "metadata": {
  "kernelspec": {
   "display_name": "Python 3 (ipykernel)",
   "language": "python",
   "name": "python3"
  },
  "language_info": {
   "codemirror_mode": {
    "name": "ipython",
    "version": 3
   },
   "file_extension": ".py",
   "mimetype": "text/x-python",
   "name": "python",
   "nbconvert_exporter": "python",
   "pygments_lexer": "ipython3",
   "version": "3.11.5"
  }
 },
 "nbformat": 4,
 "nbformat_minor": 5
}

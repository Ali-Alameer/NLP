{
  "nbformat": 4,
  "nbformat_minor": 0,
  "metadata": {
    "colab": {
      "provenance": [],
      "authorship_tag": "ABX9TyNvkeg+MIQJoUoctXbWCK5Y",
      "include_colab_link": true
    },
    "kernelspec": {
      "name": "python3",
      "display_name": "Python 3"
    },
    "language_info": {
      "name": "python"
    }
  },
  "cells": [
    {
      "cell_type": "markdown",
      "metadata": {
        "id": "view-in-github",
        "colab_type": "text"
      },
      "source": [
        "<a href=\"https://colab.research.google.com/github/Ali-Alameer/NLP/blob/main/tutorials/text_classification_read_from_csv.ipynb\" target=\"_parent\"><img src=\"https://colab.research.google.com/assets/colab-badge.svg\" alt=\"Open In Colab\"/></a>"
      ]
    },
    {
      "cell_type": "code",
      "execution_count": null,
      "metadata": {
        "id": "khdqLwhM7gRO"
      },
      "outputs": [],
      "source": [
        "globals().clear()  # clear all variables\n",
        "\n",
        "import numpy as np\n",
        "import tensorflow as tf\n",
        "import tensorflow_hub as hub\n",
        "import matplotlib.pyplot as plt\n",
        "import pandas as pd\n",
        "\n",
        "from sklearn.metrics import confusion_matrix\n",
        "from sklearn.metrics import classification_report\n",
        "from sklearn import metrics\n",
        "\n",
        "print(\"Version: \", tf.__version__)\n",
        "print(\"Eager mode: \", tf.executing_eagerly())\n",
        "print(\"Hub version: \", hub.__version__)\n",
        "print(\"GPU is\", \"available\" if tf.config.list_physical_devices('GPU') else \"NOT AVAILABLE\")\n",
        "\n"
      ]
    },
    {
      "cell_type": "code",
      "source": [
        "import requests\n",
        "\n",
        "# URL of the file to download\n",
        "url = \"https://github.com/Ali-Alameer/NLP/raw/main/data/spam_text.csv\"\n",
        "\n",
        "# Send a GET request to the URL\n",
        "response = requests.get(url)\n",
        "\n",
        "# Check if the request was successful (status code 200)\n",
        "if response.status_code == 200:\n",
        "    # Open the file in binary write mode and write the content of the response\n",
        "    with open(\"spam_text.csv\", \"wb\") as file:\n",
        "        file.write(response.content)\n",
        "    print(\"File downloaded successfully.\")\n",
        "else:\n",
        "    print(\"Failed to download the file. Status code:\", response.status_code)\n"
      ],
      "metadata": {
        "id": "OT1m0t9673dX"
      },
      "execution_count": null,
      "outputs": []
    },
    {
      "cell_type": "code",
      "source": [
        "# set the percentages of training, validation and testing dataset\n",
        "test_percentage = 0.1\n",
        "validation_percentage = 0.1\n",
        "\n",
        "# read data from csv file instead (dataset available in github)\n",
        "data = pd.read_csv('spam_text.csv')\n",
        "X = data.Message.values\n",
        "y = data.Category.values"
      ],
      "metadata": {
        "id": "J71cM466983w"
      },
      "execution_count": null,
      "outputs": []
    },
    {
      "cell_type": "code",
      "source": [
        "# convert the labels into numbers\n",
        "y[y == 'spam'] = 0\n",
        "y[y == 'ham'] = 1\n",
        "y = np.asarray(y).astype('float32')\n",
        "\n",
        "# Partition the data into training and testing\n",
        "test_examples = np.asarray(X[:round(test_percentage * len(X))])\n",
        "train_examples = np.asarray(X[round(test_percentage * len(X)):])\n",
        "\n",
        "test_labels = np.asarray(y[:round(test_percentage * len(X))])\n",
        "train_labels = np.asarray(y[round(test_percentage * len(X)):])\n",
        "\n",
        "print(\"Training entries: {}, test entries: {}\".format(len(train_examples), len(test_examples)))"
      ],
      "metadata": {
        "id": "AKCmdMja7rS3"
      },
      "execution_count": null,
      "outputs": []
    },
    {
      "cell_type": "code",
      "source": [
        "# Build the model and show its layers; model has two fully connected layers with hidden units of 16 and 1, respectively\n",
        "model = \"https://tfhub.dev/google/nnlm-en-dim50/2\"\n",
        "# model = \"https://tfhub.dev/google/nnlm-en-dim50-with-normalization/2\"\n",
        "# model = \"https://tfhub.dev/google/nnlm-en-dim128-with-normalization/2\"\n",
        "\n",
        "hub_layer = hub.KerasLayer(model, input_shape=[], dtype=tf.string, trainable=True)\n",
        "hub_layer(train_examples[:3])\n",
        "model = tf.keras.Sequential()\n",
        "model.add(hub_layer)\n",
        "model.add(tf.keras.layers.Dense(16, activation='relu'))\n",
        "model.add(tf.keras.layers.Dense(1))  # because it's binary classification\n",
        "model.summary()\n",
        "\n",
        "# the loss function and metric are compatible with binary classification scenarios\n",
        "model.compile(optimizer='adam',\n",
        "              loss=tf.losses.BinaryCrossentropy(from_logits=True),\n",
        "              metrics=[tf.metrics.BinaryAccuracy(threshold=0.0, name='accuracy')])\n",
        "\n",
        "# extracting validation examples from the training data\n",
        "x_val = train_examples[:round(validation_percentage * len(train_examples))]\n",
        "partial_x_train = train_examples[round(validation_percentage * len(train_examples)):]\n",
        "\n",
        "y_val = train_labels[:round(validation_percentage * len(train_examples))]\n",
        "partial_y_train = train_labels[round(validation_percentage * len(train_examples)):]\n",
        "\n",
        "# training the model\n",
        "history = model.fit(partial_x_train,\n",
        "                    partial_y_train,\n",
        "                    epochs=40,\n",
        "                    batch_size=512,\n",
        "                    validation_data=(x_val, y_val),\n",
        "                    verbose=1)\n",
        "\n",
        "# see model training history\n",
        "history_dict = history.history\n",
        "history_dict.keys()\n",
        "\n",
        "acc = history_dict['accuracy']\n",
        "val_acc = history_dict['val_accuracy']\n",
        "loss = history_dict['loss']\n",
        "val_loss = history_dict['val_loss']\n",
        "\n",
        "epochs = range(1, len(acc) + 1)\n",
        "\n",
        "# \"bo\" is for \"blue dot\"\n",
        "plt.plot(epochs, loss, 'bo', label='Training loss')\n",
        "# b is for \"solid blue line\"\n",
        "plt.plot(epochs, val_loss, 'b', label='Validation loss')\n",
        "plt.title('Training and validation loss')\n",
        "plt.xlabel('Epochs')\n",
        "plt.ylabel('Loss')\n",
        "plt.legend()\n",
        "\n",
        "plt.show()\n",
        "\n",
        "plt.clf()  # clear figure\n",
        "\n",
        "plt.plot(epochs, acc, 'bo', label='Training acc')\n",
        "plt.plot(epochs, val_acc, 'b', label='Validation acc')\n",
        "plt.title('Training and validation accuracy')\n",
        "plt.xlabel('Epochs')\n",
        "plt.ylabel('Accuracy')\n",
        "plt.legend()\n",
        "\n",
        "plt.show()\n",
        "\n",
        "\n",
        "\n",
        "results = model.evaluate(test_examples, test_labels)  # this return loss value and accuracy\n",
        "print(results)\n",
        "\n",
        "# another method to evaluate performance\n",
        "predictions = model.predict(test_examples)\n",
        "predictions[predictions >= 0] = 1\n",
        "predictions[predictions < 0] = 0\n",
        "confusionMatrix = confusion_matrix(test_labels, predictions, normalize='pred')\n",
        "acc = metrics.accuracy_score(test_labels, predictions)\n",
        "print(classification_report(test_labels, predictions))"
      ],
      "metadata": {
        "id": "WVaw3DUA7r1H"
      },
      "execution_count": null,
      "outputs": []
    }
  ]
}
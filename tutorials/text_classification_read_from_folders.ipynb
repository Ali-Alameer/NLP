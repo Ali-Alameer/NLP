{
  "nbformat": 4,
  "nbformat_minor": 0,
  "metadata": {
    "colab": {
      "provenance": [],
      "authorship_tag": "ABX9TyOvEXFhxNhXjav5cWNrhHjk",
      "include_colab_link": true
    },
    "kernelspec": {
      "name": "python3",
      "display_name": "Python 3"
    },
    "language_info": {
      "name": "python"
    }
  },
  "cells": [
    {
      "cell_type": "markdown",
      "metadata": {
        "id": "view-in-github",
        "colab_type": "text"
      },
      "source": [
        "<a href=\"https://colab.research.google.com/github/Ali-Alameer/NLP/blob/main/tutorials/text_classification_read_from_folders.ipynb\" target=\"_parent\"><img src=\"https://colab.research.google.com/assets/colab-badge.svg\" alt=\"Open In Colab\"/></a>"
      ]
    },
    {
      "cell_type": "code",
      "execution_count": null,
      "metadata": {
        "id": "oMLGhMsm3_v1"
      },
      "outputs": [],
      "source": [
        "import numpy as np\n",
        "import sklearn\n",
        "import tensorflow as tf\n",
        "import tensorflow_hub as hub\n",
        "import tensorflow_datasets as tfds\n",
        "import matplotlib.pyplot as plt\n",
        "import pandas as pd\n",
        "\n",
        "from sklearn.datasets import load_files\n",
        "from sklearn.metrics import confusion_matrix\n",
        "from sklearn.metrics import classification_report\n",
        "from sklearn import metrics\n",
        "\n",
        "print(\"Version: \", tf.__version__)\n",
        "print(\"Eager mode: \", tf.executing_eagerly())\n",
        "print(\"Hub version: \", hub.__version__)\n",
        "print(\"GPU is\", \"available\" if tf.config.list_physical_devices('GPU') else \"NOT AVAILABLE\")\n",
        "\n"
      ]
    },
    {
      "cell_type": "markdown",
      "source": [
        "Download and unzip folder"
      ],
      "metadata": {
        "id": "TD30AYKm405u"
      }
    },
    {
      "cell_type": "code",
      "source": [
        "import urllib.request\n",
        "import zipfile\n",
        "import os\n",
        "\n",
        "# URL of the zip file\n",
        "url = 'https://github.com/Ali-Alameer/NLP/raw/main/data/bbc.zip'\n",
        "\n",
        "# Define the filename for the downloaded zip file\n",
        "zip_filename = 'bbc.zip'\n",
        "\n",
        "# Define the directory where the files will be extracted\n",
        "extracted_dir = 'bbc_data'\n",
        "\n",
        "# Download the zip file\n",
        "urllib.request.urlretrieve(url, zip_filename)\n",
        "print(\"Downloaded successfully.\")\n",
        "\n",
        "# Extract the contents of the zip file\n",
        "with zipfile.ZipFile(zip_filename, 'r') as zip_ref:\n",
        "    zip_ref.extractall(extracted_dir)\n",
        "print(\"Extracted successfully.\")\n",
        "\n",
        "# Delete the zip file\n",
        "os.remove(zip_filename)\n",
        "print(\"Zip file deleted.\")"
      ],
      "metadata": {
        "id": "CSn3v_hH4iLD"
      },
      "execution_count": null,
      "outputs": []
    },
    {
      "cell_type": "code",
      "source": [
        "test_precentage = 0.1\n",
        "validation_precentage = 0.1\n",
        "# read with folders as labels\n",
        "data = load_files(r\"/content/bbc_data/bbc\")\n",
        "X, y = data.data, data.target\n",
        "\n",
        "\n",
        "# Partition the data into training and testing\n",
        "test_examples = np.asarray(X[:round(test_precentage * len(X))])\n",
        "train_examples = np.asarray(X[round(test_precentage * len(X)):])\n",
        "\n",
        "test_labels = np.asarray(y[:round(test_precentage * len(X))])\n",
        "train_labels = np.asarray(y[round(test_precentage * len(X)):])\n",
        "\n",
        "print(\"Training entries: {}, test entries: {}\".format(len(train_examples), len(test_examples)))\n",
        "\n",
        "# show subsample ofo the training examples and training labels\n",
        "train_examples[:10]\n",
        "train_labels[:10]\n",
        "\n"
      ],
      "metadata": {
        "id": "ZRPKznIf4Lwx"
      },
      "execution_count": null,
      "outputs": []
    },
    {
      "cell_type": "code",
      "source": [
        "# Build the model and show its layers; model has two fully connected layers with hidden units of 16 and 1, respectively\n",
        "model = \"https://tfhub.dev/google/nnlm-en-dim50/2\"\n",
        "# model = \"https://tfhub.dev/google/nnlm-en-dim50-with-normalization/2\"\n",
        "# model = \"https://tfhub.dev/google/nnlm-en-dim128-with-normalization/2\"\n",
        "\n",
        "hub_layer = hub.KerasLayer(model, input_shape=[], dtype=tf.string, trainable=True)\n",
        "hub_layer(train_examples[:3])\n",
        "model = tf.keras.Sequential()\n",
        "model.add(hub_layer)\n",
        "model.add(tf.keras.layers.Dense(16, activation='relu'))\n",
        "model.add(tf.keras.layers.Dense(5))\n",
        "model.summary()\n",
        "\n",
        "# model compilation\n",
        "# model.compile(optimizer='adam',\n",
        "#               loss=tf.losses.CategoricalCrossentropy(),\n",
        "#               metrics=[tf.metrics.CategoricalAccuracy(name='accuracy')])\n",
        "\n",
        "\n",
        "model.compile(optimizer='adam',\n",
        "              loss=tf.losses.SparseCategoricalCrossentropy(from_logits=True),\n",
        "              metrics=['accuracy'])\n",
        "# extracting validation examples from the training data\n",
        "x_val = train_examples[:round(validation_precentage * len(train_examples))]\n",
        "partial_x_train = train_examples[round(validation_precentage * len(train_examples)):]\n",
        "\n",
        "y_val = train_labels[:round(validation_precentage * len(train_examples))]\n",
        "partial_y_train = train_labels[round(validation_precentage * len(train_examples)):]\n",
        "\n",
        "# training the model\n",
        "history = model.fit(partial_x_train,\n",
        "                    partial_y_train,\n",
        "                    epochs=40,\n",
        "                    batch_size=512,\n",
        "                    validation_data=(x_val, y_val),\n",
        "                    verbose=1)\n",
        "\n",
        "# see model training history\n",
        "history_dict = history.history\n",
        "history_dict.keys()\n",
        "\n",
        "acc = history_dict['accuracy']\n",
        "val_acc = history_dict['val_accuracy']\n",
        "loss = history_dict['loss']\n",
        "val_loss = history_dict['val_loss']\n",
        "\n",
        "epochs = range(1, len(acc) + 1)\n",
        "\n",
        "# \"bo\" is for \"blue dot\"\n",
        "plt.plot(epochs, loss, 'bo', label='Training loss')\n",
        "# b is for \"solid blue line\"\n",
        "plt.plot(epochs, val_loss, 'b', label='Validation loss')\n",
        "plt.title('Training and validation loss')\n",
        "plt.xlabel('Epochs')\n",
        "plt.ylabel('Loss')\n",
        "plt.legend()\n",
        "\n",
        "plt.show()\n",
        "\n",
        "plt.clf()  # clear figure\n",
        "\n",
        "plt.plot(epochs, acc, 'bo', label='Training acc')\n",
        "plt.plot(epochs, val_acc, 'b', label='Validation acc')\n",
        "plt.title('Training and validation accuracy')\n",
        "plt.xlabel('Epochs')\n",
        "plt.ylabel('Accuracy')\n",
        "plt.legend()\n",
        "\n",
        "plt.show()\n",
        "\n",
        "results = model.evaluate(test_examples, test_labels)  # this return loss value and accuracy\n",
        "print(results)\n",
        "\n",
        "# another method to evaluate performance\n",
        "predictions = model.predict(test_examples).argmax(axis=-1)\n",
        "\n",
        "\n",
        "confusionMatrix = confusion_matrix(test_labels, predictions, normalize='pred')\n",
        "acc = metrics.accuracy_score(test_labels, predictions)\n",
        "print(classification_report(test_labels, predictions))"
      ],
      "metadata": {
        "id": "vOGC84Ii4L5A"
      },
      "execution_count": null,
      "outputs": []
    }
  ]
}